{
  "nbformat": 4,
  "nbformat_minor": 0,
  "metadata": {
    "colab": {
      "provenance": [],
      "authorship_tag": "ABX9TyOaBf4WpPoUbTqxg9sQKy0O",
      "include_colab_link": true
    },
    "kernelspec": {
      "name": "python3",
      "display_name": "Python 3"
    },
    "language_info": {
      "name": "python"
    }
  },
  "cells": [
    {
      "cell_type": "markdown",
      "metadata": {
        "id": "view-in-github",
        "colab_type": "text"
      },
      "source": [
        "<a href=\"https://colab.research.google.com/github/emshashank/GithubActionsTutorial/blob/master/PII_Redaction1.ipynb\" target=\"_parent\"><img src=\"https://colab.research.google.com/assets/colab-badge.svg\" alt=\"Open In Colab\"/></a>"
      ]
    },
    {
      "cell_type": "code",
      "source": [
        "# download presidio\n",
        "!pip install presidio_analyzer presidio_anonymizer\n",
        "!python -m spacy download en_core_web_lg"
      ],
      "metadata": {
        "id": "IsVoQjC0MliF"
      },
      "execution_count": null,
      "outputs": []
    },
    {
      "cell_type": "code",
      "source": [
        "from presidio_analyzer import AnalyzerEngine, PatternRecognizer\n",
        "from presidio_anonymizer import AnonymizerEngine\n",
        "from presidio_anonymizer.entities import OperatorConfig\n",
        "import json\n",
        "from pprint import pprint"
      ],
      "metadata": {
        "id": "0mhTZHUKMovL"
      },
      "execution_count": 18,
      "outputs": []
    },
    {
      "cell_type": "code",
      "source": [
        "text_to_anonymize = \"His name is Mr. Jones and his phone number is 212-555-5555\""
      ],
      "metadata": {
        "id": "rTJGnO05MrzD"
      },
      "execution_count": 13,
      "outputs": []
    },
    {
      "cell_type": "code",
      "source": [
        "analyzer = AnalyzerEngine()\n",
        "analyzer_results = analyzer.analyze(text=text_to_anonymize, entities=[\"PHONE_NUMBER\"], language='en')\n",
        "\n",
        "print(analyzer_results)"
      ],
      "metadata": {
        "colab": {
          "base_uri": "https://localhost:8080/"
        },
        "id": "iAeST8bAMu43",
        "outputId": "6a8e000a-89fb-4df0-dd90-4b94efeb500b"
      },
      "execution_count": 16,
      "outputs": [
        {
          "output_type": "stream",
          "name": "stderr",
          "text": [
            "WARNING:presidio-analyzer:Recognizer not added to registry because language is not supported by registry - CreditCardRecognizer supported languages: es, registry supported languages: en\n",
            "WARNING:presidio-analyzer:Recognizer not added to registry because language is not supported by registry - CreditCardRecognizer supported languages: it, registry supported languages: en\n",
            "WARNING:presidio-analyzer:Recognizer not added to registry because language is not supported by registry - CreditCardRecognizer supported languages: pl, registry supported languages: en\n",
            "WARNING:presidio-analyzer:Recognizer not added to registry because language is not supported by registry - EsNifRecognizer supported languages: es, registry supported languages: en\n",
            "WARNING:presidio-analyzer:Recognizer not added to registry because language is not supported by registry - EsNieRecognizer supported languages: es, registry supported languages: en\n",
            "WARNING:presidio-analyzer:Recognizer not added to registry because language is not supported by registry - ItDriverLicenseRecognizer supported languages: it, registry supported languages: en\n",
            "WARNING:presidio-analyzer:Recognizer not added to registry because language is not supported by registry - ItFiscalCodeRecognizer supported languages: it, registry supported languages: en\n",
            "WARNING:presidio-analyzer:Recognizer not added to registry because language is not supported by registry - ItVatCodeRecognizer supported languages: it, registry supported languages: en\n",
            "WARNING:presidio-analyzer:Recognizer not added to registry because language is not supported by registry - ItIdentityCardRecognizer supported languages: it, registry supported languages: en\n",
            "WARNING:presidio-analyzer:Recognizer not added to registry because language is not supported by registry - ItPassportRecognizer supported languages: it, registry supported languages: en\n",
            "WARNING:presidio-analyzer:Recognizer not added to registry because language is not supported by registry - PlPeselRecognizer supported languages: pl, registry supported languages: en\n",
            "WARNING:presidio-analyzer:Entity NAME doesn't have the corresponding recognizer in language : en\n"
          ]
        },
        {
          "output_type": "stream",
          "name": "stdout",
          "text": [
            "[type: PHONE_NUMBER, start: 46, end: 58, score: 0.75]\n"
          ]
        }
      ]
    },
    {
      "cell_type": "code",
      "source": [
        "titles_recognizer = PatternRecognizer(supported_entity=\"TITLE\",\n",
        "                                      deny_list=[\"Mr.\",\"Mrs.\",\"Miss\"])\n",
        "\n",
        "pronoun_recognizer = PatternRecognizer(supported_entity=\"PRONOUN\",\n",
        "                                       deny_list=[\"he\", \"He\", \"his\", \"His\", \"she\", \"She\", \"hers\", \"Hers\"])\n",
        "\n",
        "analyzer.registry.add_recognizer(titles_recognizer)\n",
        "analyzer.registry.add_recognizer(pronoun_recognizer)\n",
        "\n",
        "analyzer_results = analyzer.analyze(text=text_to_anonymize,\n",
        "                            entities=[\"TITLE\", \"PRONOUN\"],\n",
        "                            language=\"en\")\n",
        "print(analyzer_results)\n"
      ],
      "metadata": {
        "colab": {
          "base_uri": "https://localhost:8080/"
        },
        "id": "0Q74C4hxNQ4e",
        "outputId": "23daf559-776f-4dbf-8a7e-9a3799159664"
      },
      "execution_count": 19,
      "outputs": [
        {
          "output_type": "stream",
          "name": "stdout",
          "text": [
            "[type: PRONOUN, start: 0, end: 3, score: 1.0, type: TITLE, start: 12, end: 15, score: 1.0, type: PRONOUN, start: 26, end: 29, score: 1.0]\n"
          ]
        }
      ]
    },
    {
      "cell_type": "code",
      "source": [
        "anonymizer = AnonymizerEngine()\n",
        "\n",
        "anonymized_results = anonymizer.anonymize(\n",
        "    text=text_to_anonymize,\n",
        "    analyzer_results=analyzer_results,\n",
        "    operators={\"DEFAULT\": OperatorConfig(\"replace\", {\"new_value\": \"<ANONYMIZED>\"}),\n",
        "                        \"PHONE_NUMBER\": OperatorConfig(\"mask\", {\"type\": \"mask\", \"masking_char\" : \"*\", \"chars_to_mask\" : 12, \"from_end\" : True}),\n",
        "                        \"TITLE\": OperatorConfig(\"redact\", {})}\n",
        ")\n",
        "\n",
        "print(f\"text: {anonymized_results.text}\")\n",
        "print(\"detailed response:\")\n",
        "\n",
        "pprint(json.loads(anonymized_results.to_json()))"
      ],
      "metadata": {
        "colab": {
          "base_uri": "https://localhost:8080/"
        },
        "id": "-OLAKWJiNga0",
        "outputId": "ac8e19bf-8f5b-4fa1-8a4a-0ab173626a96"
      },
      "execution_count": 20,
      "outputs": [
        {
          "output_type": "stream",
          "name": "stdout",
          "text": [
            "text: <ANONYMIZED> name is  Jones and <ANONYMIZED> phone number is 212-555-5555\n",
            "detailed response:\n",
            "{'items': [{'end': 44,\n",
            "            'entity_type': 'PRONOUN',\n",
            "            'operator': 'replace',\n",
            "            'start': 32,\n",
            "            'text': '<ANONYMIZED>'},\n",
            "           {'end': 21,\n",
            "            'entity_type': 'TITLE',\n",
            "            'operator': 'redact',\n",
            "            'start': 21,\n",
            "            'text': ''},\n",
            "           {'end': 12,\n",
            "            'entity_type': 'PRONOUN',\n",
            "            'operator': 'replace',\n",
            "            'start': 0,\n",
            "            'text': '<ANONYMIZED>'}],\n",
            " 'text': '<ANONYMIZED> name is  Jones and <ANONYMIZED> phone number is '\n",
            "         '212-555-5555'}\n"
          ]
        }
      ]
    }
  ]
}